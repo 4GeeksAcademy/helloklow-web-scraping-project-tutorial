{
    "cells": [
        {
            "cell_type": "markdown",
            "metadata": {},
            "source": [
                "# Explore here\n",
                "\n",
                "It's recommended to use this notebook for exploration purposes."
            ]
        },
        {
            "cell_type": "code",
            "execution_count": 2,
            "metadata": {},
            "outputs": [],
            "source": [
                "import os\n",
                "from bs4 import BeautifulSoup\n",
                "import requests\n",
                "import time\n",
                "import sqlite3\n",
                "import matplotlib.pyplot as plt\n",
                "import seaborn as sns\n",
                "\n"
            ]
        },
        {
            "cell_type": "code",
            "execution_count": 3,
            "metadata": {},
            "outputs": [
                {
                    "name": "stdout",
                    "output_type": "stream",
                    "text": [
                        "Defaulting to user installation because normal site-packages is not writeable\n",
                        "Requirement already satisfied: requests in /home/vscode/.local/lib/python3.11/site-packages (2.27.1)\n",
                        "Requirement already satisfied: beautifulsoup4 in /home/vscode/.local/lib/python3.11/site-packages (4.12.3)\n",
                        "Requirement already satisfied: urllib3<1.27,>=1.21.1 in /home/vscode/.local/lib/python3.11/site-packages (from requests) (1.26.20)\n",
                        "Requirement already satisfied: certifi>=2017.4.17 in /home/vscode/.local/lib/python3.11/site-packages (from requests) (2024.8.30)\n",
                        "Requirement already satisfied: charset-normalizer~=2.0.0 in /home/vscode/.local/lib/python3.11/site-packages (from requests) (2.0.12)\n",
                        "Requirement already satisfied: idna<4,>=2.5 in /home/vscode/.local/lib/python3.11/site-packages (from requests) (3.10)\n",
                        "Requirement already satisfied: soupsieve>1.2 in /home/vscode/.local/lib/python3.11/site-packages (from beautifulsoup4) (2.6)\n",
                        "\n",
                        "\u001b[1m[\u001b[0m\u001b[34;49mnotice\u001b[0m\u001b[1;39;49m]\u001b[0m\u001b[39;49m A new release of pip is available: \u001b[0m\u001b[31;49m23.1.2\u001b[0m\u001b[39;49m -> \u001b[0m\u001b[32;49m24.2\u001b[0m\n",
                        "\u001b[1m[\u001b[0m\u001b[34;49mnotice\u001b[0m\u001b[1;39;49m]\u001b[0m\u001b[39;49m To update, run: \u001b[0m\u001b[32;49mpip install --upgrade pip\u001b[0m\n"
                    ]
                }
            ],
            "source": [
                "# Step 1: Install dependencies\n",
                "!pip install requests beautifulsoup4"
            ]
        },
        {
            "cell_type": "code",
            "execution_count": 6,
            "metadata": {},
            "outputs": [
                {
                    "name": "stdout",
                    "output_type": "stream",
                    "text": [
                        "Page fetched successfully!\n",
                        "<!DOCTYPE html>\n",
                        "<html lang=\"en\">\n",
                        "<head>\n",
                        "        <script defer id=\"dd-rum\">\n",
                        "          (() => {\n",
                        "            try {\n",
                        "              if (!window.DD_RUM) {\n",
                        "              (function(h, o, u, n, d) {\n",
                        "                h = h[d] = h[d] || {\n",
                        "                q: [],\n",
                        "                onReady: function(c) {\n",
                        "                  h.q.push(c)\n",
                        "                }\n",
                        "                };\n",
                        "                d = o.createElement(u);\n",
                        "                d.async = 1;\n",
                        "                d.src = n;\n",
                        "                n = o.getElementsByTagName(u)[0];\n"
                    ]
                }
            ],
            "source": [
                "# Step 2: Download HTML\n",
                "\n",
                "# Fetch the HTML content of a webpage\n",
                "url = \"https://www.mlb.com/stats/san-francisco-giants/all-time-by-season\"\n",
                "response = requests.get(url)\n",
                "\n",
                "# Check if the request was successful\n",
                "if response.status_code == 200:\n",
                "    print(\"Page fetched successfully!\")\n",
                "else:\n",
                "    print(f\"Failed with status code: {response.status_code}\")\n",
                "\n",
                "# Print the first 500 characters of the HTML content\n",
                "print(response.text[:500])"
            ]
        },
        {
            "cell_type": "code",
            "execution_count": 8,
            "metadata": {},
            "outputs": [
                {
                    "name": "stdout",
                    "output_type": "stream",
                    "text": [
                        "<!DOCTYPE html>\n",
                        "<html lang=\"en\">\n",
                        " <head>\n",
                        "  <script defer=\"\" id=\"dd-rum\">\n",
                        "   (() => {\n",
                        "            try {\n",
                        "              if (!window.DD_RUM) {\n",
                        "              (function(h, o, u, n, d) {\n",
                        "                h = h[d] = h[d] || {\n",
                        "                q: [],\n",
                        "                onReady: function(c) {\n",
                        "                  h.q.push(c)\n",
                        "                }\n",
                        "                };\n",
                        "                d = o.createElement(u);\n",
                        "                d.async = 1;\n",
                        "                d.src = n;\n",
                        "                n = o.getElementsByTagName(u)[0];\n",
                        "        \n"
                    ]
                }
            ],
            "source": [
                "# Step 3: Transform the HTML\n",
                "from bs4 import BeautifulSoup\n",
                "\n",
                "# Parse the HTML content using BeautifulSoup\n",
                "soup = BeautifulSoup(response.text, 'html.parser')\n",
                "\n",
                "# Pretty-print the first 500 characters of the parsed HTML\n",
                "print(soup.prettify()[:500])"
            ]
        },
        {
            "cell_type": "code",
            "execution_count": 9,
            "metadata": {},
            "outputs": [
                {
                    "name": "stdout",
                    "output_type": "stream",
                    "text": [
                        "<tr><th class=\"pinned-col-T0Jkz2nh col-group-start-Gn6clGbi number-GoaicxKV first-col-hKqk_bGN header-_PPXDbaa is-table-pinned-lGP8KWTK\" data-col=\"0\" data-row=\"h1\" id=\"tb-1232-header-col0\" scope=\"col\"><button aria-label=\"Player Column Sort\" class=\"column-header-container-x7DJ3Fgp no-select-hDruNBDu\"><div><abbr class=\"bui-text cellheader bui-text\">PLAYER</abbr></div><div class=\"mobile-header-extra-AGgURvvT\"><div></div><div></div></div></button><div class=\"column-header-container-x7DJ3Fgp no-select-hDruNBDu\"><div><abbr class=\"bui-text cellheader bui-text\">PLAYER</abbr></div><div class=\"mobile-header-extra-AGgURvvT\"><div></div><div></div></div></div></th><th class=\"number-GoaicxKV header-_PPXDbaa align-left-L6MdxTlJ is-table-pinned-lGP8KWTK\" data-col=\"1\" data-row=\"h1\" id=\"tb-1232-header-col1\" scope=\"col\"><button aria-label=\"Year Column Sort\" class=\"column-header-container-x7DJ3Fgp no-select-hDruNBDu\"><div><abbr class=\"bui-text cellheader bui-text\">YEAR</abbr></div><div class=\"mobile-header-extra-AGgURvvT\"><div></div><div></div></div></button><div class=\"column-header-container-x7DJ3Fgp no-select-hDruNBDu\"><div><abbr class=\"bui-text cellheader bui-text\">YEAR</abbr></div><div class=\"mobile-header-extra-AGgURvvT\"><div></div><div></div></div></div></th><th class=\"col-group-end-BOW7diD7 number-GoaicxKV header-_PPXDbaa align-left-L6MdxTlJ is-table-pinned-lGP8KWTK\" data-col=\"2\" data-row=\"h1\" id=\"tb-1232-header-col2\" scope=\"col\"><button aria-label=\"Team Column Sort\" class=\"column-header-container-x7DJ3Fgp no-select-hDruNBDu\"><div><abbr class=\"bui-text cellheader bui-text\">TEAM</abbr></div><div class=\"mobile-header-extra-AGgURvvT\"><div></div><div></div></div></button><div class=\"column-header-container-x7DJ3Fgp no-select-hDruNBDu\"><div><abbr class=\"bui-text cellheader bui-text\">TEAM</abbr></div><div class=\"mobile-header-extra-AGgURvvT\"><div></div><div></div></div></div></th><th class=\"col-group-start-Gn6clGbi number-GoaicxKV header-_PPXDbaa align-right-TwjGe_gi is-table-pinned-lGP8KWTK\" data-col=\"3\" data-row=\"h1\" id=\"tb-1232-header-col3\" scope=\"col\"><button aria-label=\"Games Played Column Sort\" class=\"column-header-container-x7DJ3Fgp no-select-hDruNBDu\"><div><abbr class=\"bui-text cellheader bui-text\">G</abbr></div><div class=\"mobile-header-extra-AGgURvvT\"><div></div><div></div></div></button><div class=\"column-header-container-x7DJ3Fgp no-select-hDruNBDu\"><div><abbr class=\"bui-text cellheader bui-text\">G</abbr></div><div class=\"mobile-header-extra-AGgURvvT\"><div></div><div></div></div></div></th><th class=\"col-group-end-BOW7diD7 number-GoaicxKV header-_PPXDbaa align-right-TwjGe_gi is-table-pinned-lGP8KWTK\" data-col=\"4\" data-row=\"h1\" id=\"tb-1232-header-col4\" scope=\"col\"><button aria-label=\"At Bats Column Sort\" class=\"column-header-container-x7DJ3Fgp no-select-hDruNBDu\"><div><abbr class=\"bui-text cellheader bui-text\">AB</abbr></div><div class=\"mobile-header-extra-AGgURvvT\"><div></div><div></div></div></button><div class=\"column-header-container-x7DJ3Fgp no-select-hDruNBDu\"><div><abbr class=\"bui-text cellheader bui-text\">AB</abbr></div><div class=\"mobile-header-extra-AGgURvvT\"><div></div><div></div></div></div></th><th class=\"col-group-start-Gn6clGbi number-GoaicxKV header-_PPXDbaa align-right-TwjGe_gi is-table-pinned-lGP8KWTK\" data-col=\"5\" data-row=\"h1\" id=\"tb-1232-header-col5\" scope=\"col\"><button aria-label=\"Runs Column Sort\" class=\"column-header-container-x7DJ3Fgp no-select-hDruNBDu\"><div><abbr class=\"bui-text cellheader bui-text\">R</abbr></div><div class=\"mobile-header-extra-AGgURvvT\"><div></div><div></div></div></button><div class=\"column-header-container-x7DJ3Fgp no-select-hDruNBDu\"><div><abbr class=\"bui-text cellheader bui-text\">R</abbr></div><div class=\"mobile-header-extra-AGgURvvT\"><div></div><div></div></div></div></th><th class=\"number-GoaicxKV header-_PPXDbaa align-right-TwjGe_gi is-table-pinned-lGP8KWTK\" data-col=\"6\" data-row=\"h1\" id=\"tb-1232-header-col6\" scope=\"col\"><button aria-label=\"Hits Column Sort\" class=\"column-header-container-x7DJ3Fgp no-select-hDruNBDu\"><div><abbr class=\"bui-text cellheader bui-text\">H</abbr></div><div class=\"mobile-header-extra-AGgURvvT\"><div></div><div></div></div></button><div class=\"column-header-container-x7DJ3Fgp no-select-hDruNBDu\"><div><abbr class=\"bui-text cellheader bui-text\">H</abbr></div><div class=\"mobile-header-extra-AGgURvvT\"><div></div><div></div></div></div></th><th class=\"number-GoaicxKV header-_PPXDbaa align-right-TwjGe_gi is-table-pinned-lGP8KWTK\" data-col=\"7\" data-row=\"h1\" id=\"tb-1232-header-col7\" scope=\"col\"><button aria-label=\"Doubles Column Sort\" class=\"column-header-container-x7DJ3Fgp no-select-hDruNBDu\"><div><abbr class=\"bui-text cellheader bui-text\">2B</abbr></div><div class=\"mobile-header-extra-AGgURvvT\"><div></div><div></div></div></button><div class=\"column-header-container-x7DJ3Fgp no-select-hDruNBDu\"><div><abbr class=\"bui-text cellheader bui-text\">2B</abbr></div><div class=\"mobile-header-extra-AGgURvvT\"><div></div><div></div></div></div></th><th class=\"number-GoaicxKV header-_PPXDbaa align-right-TwjGe_gi is-table-pinned-lGP8KWTK\" data-col=\"8\" data-row=\"h1\" id=\"tb-1232-header-col8\" scope=\"col\"><button aria-label=\"Triples Column Sort\" class=\"column-header-container-x7DJ3Fgp no-select-hDruNBDu\"><div><abbr class=\"bui-text cellheader bui-text\">3B</abbr></div><div class=\"mobile-header-extra-AGgURvvT\"><div></div><div></div></div></button><div class=\"column-header-container-x7DJ3Fgp no-select-hDruNBDu\"><div><abbr class=\"bui-text cellheader bui-text\">3B</abbr></div><div class=\"mobile-header-extra-AGgURvvT\"><div></div><div></div></div></div></th><th class=\"number-GoaicxKV header-_PPXDbaa align-right-TwjGe_gi is-table-pinned-lGP8KWTK\" data-col=\"9\" data-row=\"h1\" id=\"tb-1232-header-col9\" scope=\"col\"><button aria-label=\"Home Runs Column Sort\" class=\"column-header-container-x7DJ3Fgp no-select-hDruNBDu\"><div><abbr class=\"bui-text cellheader bui-text\">HR</abbr></div><div class=\"mobile-header-extra-AGgURvvT\"><div></div><div></div></div></button><div class=\"column-header-container-x7DJ3Fgp no-select-hDruNBDu\"><div><abbr class=\"bui-text cellheader bui-text\">HR</abbr></div><div class=\"mobile-header-extra-AGgURvvT\"><div></div><div></div></div></div></th><th class=\"col-group-end-BOW7diD7 number-GoaicxKV header-_PPXDbaa align-right-TwjGe_gi is-table-pinned-lGP8KWTK\" data-col=\"10\" data-row=\"h1\" id=\"tb-1232-header-col10\" scope=\"col\"><button aria-label=\"Runs Batted In Column Sort\" class=\"column-header-container-x7DJ3Fgp no-select-hDruNBDu\"><div><abbr class=\"bui-text cellheader bui-text\">RBI</abbr></div><div class=\"mobile-header-extra-AGgURvvT\"><div></div><div></div></div></button><div class=\"column-header-container-x7DJ3Fgp no-select-hDruNBDu\"><div><abbr class=\"bui-text cellheader bui-text\">RBI</abbr></div><div class=\"mobile-header-extra-AGgURvvT\"><div></div><div></div></div></div></th><th class=\"col-group-start-Gn6clGbi number-GoaicxKV header-_PPXDbaa align-right-TwjGe_gi is-table-pinned-lGP8KWTK\" data-col=\"11\" data-row=\"h1\" id=\"tb-1232-header-col11\" scope=\"col\"><button aria-label=\"Walks Column Sort\" class=\"column-header-container-x7DJ3Fgp no-select-hDruNBDu\"><div><abbr class=\"bui-text cellheader bui-text\">BB</abbr></div><div class=\"mobile-header-extra-AGgURvvT\"><div></div><div></div></div></button><div class=\"column-header-container-x7DJ3Fgp no-select-hDruNBDu\"><div><abbr class=\"bui-text cellheader bui-text\">BB</abbr></div><div class=\"mobile-header-extra-AGgURvvT\"><div></div><div></div></div></div></th><th class=\"col-group-end-BOW7diD7 number-GoaicxKV header-_PPXDbaa align-right-TwjGe_gi is-table-pinned-lGP8KWTK\" data-col=\"12\" data-row=\"h1\" id=\"tb-1232-header-col12\" scope=\"col\"><button aria-label=\"Strikeouts Column Sort\" class=\"column-header-container-x7DJ3Fgp no-select-hDruNBDu\"><div><abbr class=\"bui-text cellheader bui-text\">SO</abbr></div><div class=\"mobile-header-extra-AGgURvvT\"><div></div><div></div></div></button><div class=\"column-header-container-x7DJ3Fgp no-select-hDruNBDu\"><div><abbr class=\"bui-text cellheader bui-text\">SO</abbr></div><div class=\"mobile-header-extra-AGgURvvT\"><div></div><div></div></div></div></th><th class=\"col-group-start-Gn6clGbi number-GoaicxKV header-_PPXDbaa align-right-TwjGe_gi is-table-pinned-lGP8KWTK\" data-col=\"13\" data-row=\"h1\" id=\"tb-1232-header-col13\" scope=\"col\"><button aria-label=\"Stolen Bases Column Sort\" class=\"column-header-container-x7DJ3Fgp no-select-hDruNBDu\"><div><abbr class=\"bui-text cellheader bui-text\">SB</abbr></div><div class=\"mobile-header-extra-AGgURvvT\"><div></div><div></div></div></button><div class=\"column-header-container-x7DJ3Fgp no-select-hDruNBDu\"><div><abbr class=\"bui-text cellheader bui-text\">SB</abbr></div><div class=\"mobile-header-extra-AGgURvvT\"><div></div><div></div></div></div></th><th class=\"col-group-end-BOW7diD7 number-GoaicxKV header-_PPXDbaa align-right-TwjGe_gi is-table-pinned-lGP8KWTK\" data-col=\"14\" data-row=\"h1\" id=\"tb-1232-header-col14\" scope=\"col\"><button aria-label=\"Caught Stealing Column Sort\" class=\"column-header-container-x7DJ3Fgp no-select-hDruNBDu\"><div><abbr class=\"bui-text cellheader bui-text\">CS</abbr></div><div class=\"mobile-header-extra-AGgURvvT\"><div></div><div></div></div></button><div class=\"column-header-container-x7DJ3Fgp no-select-hDruNBDu\"><div><abbr class=\"bui-text cellheader bui-text\">CS</abbr></div><div class=\"mobile-header-extra-AGgURvvT\"><div></div><div></div></div></div></th><th class=\"col-group-start-Gn6clGbi number-GoaicxKV header-_PPXDbaa align-right-TwjGe_gi is-table-pinned-lGP8KWTK\" data-col=\"15\" data-row=\"h1\" id=\"tb-1232-header-col15\" scope=\"col\"><button aria-label=\"Batting Average Column Sort\" class=\"column-header-container-x7DJ3Fgp no-select-hDruNBDu\"><div><abbr class=\"bui-text cellheader bui-text\">AVG</abbr></div><div class=\"mobile-header-extra-AGgURvvT\"><div></div><div></div></div></button><div class=\"column-header-container-x7DJ3Fgp no-select-hDruNBDu\"><div><abbr class=\"bui-text cellheader bui-text\">AVG</abbr></div><div class=\"mobile-header-extra-AGgURvvT\"><div></div><div></div></div></div></th><th class=\"number-GoaicxKV header-_PPXDbaa align-right-TwjGe_gi is-table-pinned-lGP8KWTK\" data-col=\"16\" data-row=\"h1\" id=\"tb-1232-header-col16\" scope=\"col\"><button aria-label=\"On-Base Percentage Column Sort\" class=\"column-header-container-x7DJ3Fgp no-select-hDruNBDu\"><div><abbr class=\"bui-text cellheader bui-text\">OBP</abbr></div><div class=\"mobile-header-extra-AGgURvvT\"><div></div><div></div></div></button><div class=\"column-header-container-x7DJ3Fgp no-select-hDruNBDu\"><div><abbr class=\"bui-text cellheader bui-text\">OBP</abbr></div><div class=\"mobile-header-extra-AGgURvvT\"><div></div><div></div></div></div></th><th class=\"number-GoaicxKV header-_PPXDbaa align-right-TwjGe_gi is-table-pinned-lGP8KWTK\" data-col=\"17\" data-row=\"h1\" id=\"tb-1232-header-col17\" scope=\"col\"><button aria-label=\"Slugging Percentage Column Sort\" class=\"column-header-container-x7DJ3Fgp no-select-hDruNBDu\"><div><abbr class=\"bui-text cellheader bui-text\">SLG</abbr></div><div class=\"mobile-header-extra-AGgURvvT\"><div></div><div></div></div></button><div class=\"column-header-container-x7DJ3Fgp no-select-hDruNBDu\"><div><abbr class=\"bui-text cellheader bui-text\">SLG</abbr></div><div class=\"mobile-header-extra-AGgURvvT\"><div></div><div></div></div></div></th><th class=\"selected-h6IPIIxg col-group-end-BOW7diD7 number-GoaicxKV header-_PPXDbaa align-right-TwjGe_gi is-table-pinned-lGP8KWTK\" data-col=\"18\" data-row=\"h1\" id=\"tb-1232-header-col18\" scope=\"col\"><button aria-label=\"On-Base Plus Slugging Column Sort\" class=\"selected-h6IPIIxg column-header-container-x7DJ3Fgp no-select-hDruNBDu\"><div><div aria-label=\"Sort Order Toggle\" class=\"sort-order-icons-k7Lcqwal\"><svg class=\"bui-icon asc-arrow-VkgCXMpY\" fill=\"\" height=\"16\" stroke=\"\" transform=\"rotate(0)\" viewbox=\"0 0 16 16\" width=\"16\" xmlns=\"http://www.w3.org/2000/svg\"><use xlink:href=\"#caret-up-spriteMap-ta3Si2v7\"><symbol id=\"caret-up-spriteMap-ta3Si2v7\" viewbox=\"0 0 11 6\"><title id=\"title-caret-up-spriteMap-ta3Si2v7\">caret-up</title><path d=\"M5.974.672l4.292 3.66a.65.65 0 0 1-.065 1.046.74.74 0 0 1-.88-.05L5.499 2.07 1.678 5.33a.739.739 0 0 1-.884.046.65.65 0 0 1-.062-1.043L5.027.671A.73.73 0 0 1 5.5.5c.17 0 .34.058.474.172zm-.808 1.114h.666L5.5 2.07l-.333-.284z\" fill=\"\" stroke=\"\"></path></symbol></use></svg><svg class=\"bui-icon desc-arrow-Hp7Zw4ks current-sort-order-whRBarjI\" fill=\"\" height=\"16\" stroke=\"\" transform=\"rotate(0)\" viewbox=\"0 0 16 16\" width=\"16\" xmlns=\"http://www.w3.org/2000/svg\"><use xlink:href=\"#caret-down-spriteMap-ta3Si2v7\"><symbol id=\"caret-down-spriteMap-ta3Si2v7\" viewbox=\"0 0 11 6\"><title id=\"title-caret-down-spriteMap-ta3Si2v7\">caret-down</title><path d=\"M5.974 5.328l4.292-3.66a.65.65 0 0 0-.065-1.046.74.74 0 0 0-.88.05L5.499 3.928 1.678.671A.739.739 0 0 0 .794.625a.65.65 0 0 0-.062 1.042L5.027 5.33a.73.73 0 0 0 .473.17.727.727 0 0 0 .474-.171zm-.808-1.115h.666L5.5 3.93l-.333.284z\" fill=\"\" stroke=\"\"></path></symbol></use></svg></div><abbr class=\"bui-text cellheader selected-h6IPIIxg bui-text\">OPS</abbr></div><div class=\"mobile-header-extra-AGgURvvT\"><div></div><div></div></div></button><div class=\"selected-h6IPIIxg column-header-container-x7DJ3Fgp no-select-hDruNBDu\"><div><div aria-label=\"Sort Order Toggle\" class=\"sort-order-icons-k7Lcqwal\"><svg class=\"bui-icon asc-arrow-VkgCXMpY\" fill=\"\" height=\"16\" stroke=\"\" transform=\"rotate(0)\" viewbox=\"0 0 16 16\" width=\"16\" xmlns=\"http://www.w3.org/2000/svg\"><use xlink:href=\"#caret-up-spriteMap-ta3Si2v7\"><symbol id=\"caret-up-spriteMap-ta3Si2v7\" viewbox=\"0 0 11 6\"><title id=\"title-caret-up-spriteMap-ta3Si2v7\">caret-up</title><path d=\"M5.974.672l4.292 3.66a.65.65 0 0 1-.065 1.046.74.74 0 0 1-.88-.05L5.499 2.07 1.678 5.33a.739.739 0 0 1-.884.046.65.65 0 0 1-.062-1.043L5.027.671A.73.73 0 0 1 5.5.5c.17 0 .34.058.474.172zm-.808 1.114h.666L5.5 2.07l-.333-.284z\" fill=\"\" stroke=\"\"></path></symbol></use></svg><svg class=\"bui-icon desc-arrow-Hp7Zw4ks current-sort-order-whRBarjI\" fill=\"\" height=\"16\" stroke=\"\" transform=\"rotate(0)\" viewbox=\"0 0 16 16\" width=\"16\" xmlns=\"http://www.w3.org/2000/svg\"><use xlink:href=\"#caret-down-spriteMap-ta3Si2v7\"><symbol id=\"caret-down-spriteMap-ta3Si2v7\" viewbox=\"0 0 11 6\"><title id=\"title-caret-down-spriteMap-ta3Si2v7\">caret-down</title><path d=\"M5.974 5.328l4.292-3.66a.65.65 0 0 0-.065-1.046.74.74 0 0 0-.88.05L5.499 3.928 1.678.671A.739.739 0 0 0 .794.625a.65.65 0 0 0-.062 1.042L5.027 5.33a.73.73 0 0 0 .473.17.727.727 0 0 0 .474-.171zm-.808-1.115h.666L5.5 3.93l-.333.284z\" fill=\"\" stroke=\"\"></path></symbol></use></svg></div><abbr class=\"bui-text cellheader selected-h6IPIIxg bui-text\">OPS</abbr></div><div class=\"mobile-header-extra-AGgURvvT\"><div></div><div></div></div></div></th></tr>\n"
                    ]
                }
            ],
            "source": [
                "# Step 4: Process the DataFrame\n",
                "\n",
                "# Find the table by its class name or id\n",
                "table = soup.find('table', {'class': 'bui-table'})\n",
                "\n",
                "# Extract all rows in the table\n",
                "rows = table.find_all('tr')\n",
                "\n",
                "# Print the first row (header row) to inspect it\n",
                "print(rows[0])"
            ]
        },
        {
            "cell_type": "code",
            "execution_count": 10,
            "metadata": {},
            "outputs": [
                {
                    "name": "stdout",
                    "output_type": "stream",
                    "text": [
                        "[['PLAYERPLAYER', 'YEARYEAR', 'TEAMTEAM', 'GG', 'ABAB', 'RR', 'HH', '2B2B', '3B3B', 'HRHR', 'RBIRBI', 'BBBB', 'SOSO', 'SBSB', 'CSCS', 'AVGAVG', 'OBPOBP', 'SLGSLG', 'caret-upcaret-downOPScaret-upcaret-downOPS'], ['1BarryB BondsBondsLF1\\u200c\\u200c\\u200c', '2004', 'SF', '147', '373', '129', '135', '27', '3', '45', '101', '232', '41', '6', '1', '.362', '.609', '.812', '1.421'], ['2BarryB BondsBondsLF2\\u200c\\u200c\\u200c', '2002', 'SF', '143', '403', '117', '149', '31', '2', '46', '110', '198', '47', '9', '2', '.370', '.582', '.799', '1.381'], ['3BarryB BondsBondsLF3\\u200c\\u200c\\u200c', '2001', 'SF', '153', '476', '129', '156', '32', '2', '73', '137', '177', '93', '13', '3', '.328', '.515', '.863', '1.378'], ['4BarryB BondsBondsLF4\\u200c\\u200c\\u200c', '2003', 'SF', '130', '390', '111', '133', '22', '1', '45', '90', '148', '58', '7', '0', '.341', '.529', '.749', '1.278']]\n"
                    ]
                }
            ],
            "source": [
                "# Step 4: Process the DataFrame\n",
                "\n",
                "# Initialize an empty list to hold the rows of data\n",
                "table_data = []\n",
                "\n",
                "# Loop through the rows in the table\n",
                "for row in rows:\n",
                "    # Extract the cells from the row\n",
                "    cells = row.find_all(['td', 'th'])\n",
                "    \n",
                "    # Extract the text from each cell and strip any surrounding whitespace\n",
                "    row_data = [cell.text.strip() for cell in cells]\n",
                "    \n",
                "    # Append the row data to our list\n",
                "    table_data.append(row_data)\n",
                "\n",
                "# Print the first few rows of extracted data\n",
                "print(table_data[:5])"
            ]
        },
        {
            "cell_type": "code",
            "execution_count": null,
            "metadata": {},
            "outputs": [],
            "source": [
                "# Step 5: Store the data in sqlite\n"
            ]
        },
        {
            "cell_type": "code",
            "execution_count": null,
            "metadata": {},
            "outputs": [],
            "source": [
                "# Step 6: Visualize the data\n"
            ]
        }
    ],
    "metadata": {
        "kernelspec": {
            "display_name": "Python 3",
            "language": "python",
            "name": "python3"
        },
        "language_info": {
            "codemirror_mode": {
                "name": "ipython",
                "version": 3
            },
            "file_extension": ".py",
            "mimetype": "text/x-python",
            "name": "python",
            "nbconvert_exporter": "python",
            "pygments_lexer": "ipython3",
            "version": "3.11.4"
        },
        "orig_nbformat": 4
    },
    "nbformat": 4,
    "nbformat_minor": 2
}
